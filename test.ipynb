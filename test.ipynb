{
 "cells": [
  {
   "cell_type": "code",
   "execution_count": 1,
   "metadata": {},
   "outputs": [],
   "source": [
    "import tensorflow as tf"
   ]
  },
  {
   "cell_type": "code",
   "execution_count": 3,
   "metadata": {},
   "outputs": [
    {
     "name": "stdout",
     "output_type": "stream",
     "text": [
      "1.15.5\n"
     ]
    }
   ],
   "source": [
    "print(tf.__version__)"
   ]
  },
  {
   "cell_type": "code",
   "execution_count": 2,
   "metadata": {},
   "outputs": [],
   "source": [
    "def create_network(input, trainable):\n",
    "    input = input.astype(\"float16\")\n",
    "    # input: (batch_size, num_frame_stack, 72, 96)\n",
    "    input_t = tf.expand_dims(input, axis = 0)\n",
    "    #input_t = input\n",
    "    if trainable:\n",
    "        wr = slim.l2_regularizer(1e-6)\n",
    "    else:\n",
    "        wr = None\n",
    "\n",
    "    # 將channel 放在最後一行\n",
    "    #input_t = tf.transpose(input, [0,2,3,1]) # (batch_size, num_frames, pic_size[0], pic_size[1])\n",
    "\n",
    "\n",
    "    net = slim.conv2d(input_t, 8, (7, 7), data_format=\"NHWC\",\n",
    "        activation_fn=tf.nn.relu, stride=3, weights_regularizer=wr, trainable=trainable)\n",
    "    tf.print(\"tensor: \",net)\n",
    "    net = slim.max_pool2d(net, 2, 2)\n",
    "\n",
    "    net = slim.conv2d(net, 16, (3, 3), data_format=\"NHWC\",\n",
    "        activation_fn=tf.nn.relu, weights_regularizer=wr, trainable=trainable)\n",
    "\n",
    "    net = slim.max_pool2d(net, 2, 2)\n",
    "\n",
    "    net = slim.flatten(net)\n",
    "\n",
    "    net = slim.fully_connected(net, 1, activation_fn=tf.nn.relu,\n",
    "        weights_regularizer=wr, trainable=trainable)\n",
    "    \n",
    "    tf.print(\"tensor: \", net)\n",
    "    return net"
   ]
  },
  {
   "cell_type": "code",
   "execution_count": 3,
   "metadata": {},
   "outputs": [],
   "source": [
    "from env.SaveExperience import ExperienceHistory\n",
    "import gfootball.env as football_env\n",
    "import tensorflow as tf\n",
    "import tf_slim as slim\n",
    "import cv2\n",
    "import numpy as np\n",
    "import re\n",
    "import os"
   ]
  },
  {
   "cell_type": "code",
   "execution_count": 4,
   "metadata": {},
   "outputs": [],
   "source": [
    "import sys\n",
    "from gfootball.env import football_action_set\n",
    "import random"
   ]
  },
  {
   "cell_type": "code",
   "execution_count": 5,
   "metadata": {},
   "outputs": [
    {
     "name": "stdout",
     "output_type": "stream",
     "text": [
      "('left_players', '1')\n",
      "('left_players', '1')\n",
      "('left_players', '1')\n",
      "('right_players', '0')\n",
      "('left_players', '1')\n",
      "('right_players', '0')\n",
      "('left_players', '1')\n",
      "('right_players', '0')\n",
      "('left_players', '1')\n",
      "('right_players', '0')\n",
      "('left_players', '1')\n",
      "('right_players', '0')\n",
      "('left_players', '1')\n",
      "('right_players', '0')\n",
      "('left_players', '1')\n",
      "('right_players', '0')\n",
      "('left_players', '1')\n",
      "('right_players', '0')\n",
      "('left_players', '1')\n",
      "('right_players', '0')\n",
      "('left_players', '1')\n",
      "('right_players', '0')\n",
      "WARNING:tensorflow:From c:\\Users\\USER\\anaconda3\\envs\\vfootball\\lib\\site-packages\\tf_slim\\layers\\layers.py:1089: Layer.apply (from tensorflow.python.keras.engine.base_layer) is deprecated and will be removed in a future version.\n",
      "Instructions for updating:\n",
      "Please use `layer.__call__` method instead.\n",
      "WARNING:tensorflow:From c:\\Users\\USER\\anaconda3\\envs\\vfootball\\lib\\site-packages\\tf_slim\\layers\\layers.py:1666: flatten (from tensorflow.python.layers.core) is deprecated and will be removed in a future version.\n",
      "Instructions for updating:\n",
      "Use keras.layers.flatten instead.\n",
      "WARNING:tensorflow:From C:\\Users\\USER\\AppData\\Local\\Temp\\ipykernel_18044\\1632055436.py:6: The name tf.Session is deprecated. Please use tf.compat.v1.Session instead.\n",
      "\n",
      "WARNING:tensorflow:From C:\\Users\\USER\\AppData\\Local\\Temp\\ipykernel_18044\\1632055436.py:7: The name tf.global_variables_initializer is deprecated. Please use tf.compat.v1.global_variables_initializer instead.\n",
      "\n",
      "[[25.12]]\n",
      "action 11\n"
     ]
    },
    {
     "ename": "FailedPreconditionError",
     "evalue": "Attempting to use uninitialized value Conv_2/biases\n\t [[node Conv_2/biases/read (defined at c:\\Users\\USER\\anaconda3\\envs\\vfootball\\lib\\site-packages\\tensorflow_core\\python\\framework\\ops.py:1748) ]]\n\nOriginal stack trace for 'Conv_2/biases/read':\n  File \"c:\\Users\\USER\\anaconda3\\envs\\vfootball\\lib\\runpy.py\", line 193, in _run_module_as_main\n    \"__main__\", mod_spec)\n  File \"c:\\Users\\USER\\anaconda3\\envs\\vfootball\\lib\\runpy.py\", line 85, in _run_code\n    exec(code, run_globals)\n  File \"c:\\Users\\USER\\anaconda3\\envs\\vfootball\\lib\\site-packages\\ipykernel_launcher.py\", line 17, in <module>\n    app.launch_new_instance()\n  File \"c:\\Users\\USER\\anaconda3\\envs\\vfootball\\lib\\site-packages\\traitlets\\config\\application.py\", line 846, in launch_instance\n    app.start()\n  File \"c:\\Users\\USER\\anaconda3\\envs\\vfootball\\lib\\site-packages\\ipykernel\\kernelapp.py\", line 712, in start\n    self.io_loop.start()\n  File \"c:\\Users\\USER\\anaconda3\\envs\\vfootball\\lib\\site-packages\\tornado\\platform\\asyncio.py\", line 215, in start\n    self.asyncio_loop.run_forever()\n  File \"c:\\Users\\USER\\anaconda3\\envs\\vfootball\\lib\\asyncio\\base_events.py\", line 541, in run_forever\n    self._run_once()\n  File \"c:\\Users\\USER\\anaconda3\\envs\\vfootball\\lib\\asyncio\\base_events.py\", line 1786, in _run_once\n    handle._run()\n  File \"c:\\Users\\USER\\anaconda3\\envs\\vfootball\\lib\\asyncio\\events.py\", line 88, in _run\n    self._context.run(self._callback, *self._args)\n  File \"c:\\Users\\USER\\anaconda3\\envs\\vfootball\\lib\\site-packages\\ipykernel\\kernelbase.py\", line 510, in dispatch_queue\n    await self.process_one()\n  File \"c:\\Users\\USER\\anaconda3\\envs\\vfootball\\lib\\site-packages\\ipykernel\\kernelbase.py\", line 499, in process_one\n    await dispatch(*args)\n  File \"c:\\Users\\USER\\anaconda3\\envs\\vfootball\\lib\\site-packages\\ipykernel\\kernelbase.py\", line 406, in dispatch_shell\n    await result\n  File \"c:\\Users\\USER\\anaconda3\\envs\\vfootball\\lib\\site-packages\\ipykernel\\kernelbase.py\", line 730, in execute_request\n    reply_content = await reply_content\n  File \"c:\\Users\\USER\\anaconda3\\envs\\vfootball\\lib\\site-packages\\ipykernel\\ipkernel.py\", line 390, in do_execute\n    res = shell.run_cell(code, store_history=store_history, silent=silent)\n  File \"c:\\Users\\USER\\anaconda3\\envs\\vfootball\\lib\\site-packages\\ipykernel\\zmqshell.py\", line 528, in run_cell\n    return super().run_cell(*args, **kwargs)\n  File \"c:\\Users\\USER\\anaconda3\\envs\\vfootball\\lib\\site-packages\\IPython\\core\\interactiveshell.py\", line 2915, in run_cell\n    raw_cell, store_history, silent, shell_futures)\n  File \"c:\\Users\\USER\\anaconda3\\envs\\vfootball\\lib\\site-packages\\IPython\\core\\interactiveshell.py\", line 2960, in _run_cell\n    return runner(coro)\n  File \"c:\\Users\\USER\\anaconda3\\envs\\vfootball\\lib\\site-packages\\IPython\\core\\async_helpers.py\", line 78, in _pseudo_sync_runner\n    coro.send(None)\n  File \"c:\\Users\\USER\\anaconda3\\envs\\vfootball\\lib\\site-packages\\IPython\\core\\interactiveshell.py\", line 3186, in run_cell_async\n    interactivity=interactivity, compiler=compiler, result=result)\n  File \"c:\\Users\\USER\\anaconda3\\envs\\vfootball\\lib\\site-packages\\IPython\\core\\interactiveshell.py\", line 3377, in run_ast_nodes\n    if (await self.run_code(code, result,  async_=asy)):\n  File \"c:\\Users\\USER\\anaconda3\\envs\\vfootball\\lib\\site-packages\\IPython\\core\\interactiveshell.py\", line 3457, in run_code\n    exec(code_obj, self.user_global_ns, self.user_ns)\n  File \"C:\\Users\\USER\\AppData\\Local\\Temp\\ipykernel_18044\\1632055436.py\", line 16, in <module>\n    next_net = create_network(next_frame,True)\n  File \"C:\\Users\\USER\\AppData\\Local\\Temp\\ipykernel_18044\\3314556274.py\", line 16, in create_network\n    activation_fn=tf.nn.relu, stride=3, weights_regularizer=wr, trainable=trainable)\n  File \"c:\\Users\\USER\\anaconda3\\envs\\vfootball\\lib\\site-packages\\tf_slim\\ops\\arg_scope.py\", line 184, in func_with_args\n    return func(*args, **current_args)\n  File \"c:\\Users\\USER\\anaconda3\\envs\\vfootball\\lib\\site-packages\\tf_slim\\layers\\layers.py\", line 1191, in convolution2d\n    conv_dims=2)\n  File \"c:\\Users\\USER\\anaconda3\\envs\\vfootball\\lib\\site-packages\\tf_slim\\ops\\arg_scope.py\", line 184, in func_with_args\n    return func(*args, **current_args)\n  File \"c:\\Users\\USER\\anaconda3\\envs\\vfootball\\lib\\site-packages\\tf_slim\\layers\\layers.py\", line 1089, in convolution\n    outputs = layer.apply(inputs)\n  File \"c:\\Users\\USER\\anaconda3\\envs\\vfootball\\lib\\site-packages\\tensorflow_core\\python\\util\\deprecation.py\", line 324, in new_func\n    return func(*args, **kwargs)\n  File \"c:\\Users\\USER\\anaconda3\\envs\\vfootball\\lib\\site-packages\\tensorflow_core\\python\\keras\\engine\\base_layer.py\", line 1700, in apply\n    return self.__call__(inputs, *args, **kwargs)\n  File \"c:\\Users\\USER\\anaconda3\\envs\\vfootball\\lib\\site-packages\\tensorflow_core\\python\\layers\\base.py\", line 548, in __call__\n    outputs = super(Layer, self).__call__(inputs, *args, **kwargs)\n  File \"c:\\Users\\USER\\anaconda3\\envs\\vfootball\\lib\\site-packages\\tensorflow_core\\python\\keras\\engine\\base_layer.py\", line 824, in __call__\n    self._maybe_build(inputs)\n  File \"c:\\Users\\USER\\anaconda3\\envs\\vfootball\\lib\\site-packages\\tensorflow_core\\python\\keras\\engine\\base_layer.py\", line 2146, in _maybe_build\n    self.build(input_shapes)\n  File \"c:\\Users\\USER\\anaconda3\\envs\\vfootball\\lib\\site-packages\\tensorflow_core\\python\\keras\\layers\\convolutional.py\", line 174, in build\n    dtype=self.dtype)\n  File \"c:\\Users\\USER\\anaconda3\\envs\\vfootball\\lib\\site-packages\\tensorflow_core\\python\\layers\\base.py\", line 461, in add_weight\n    **kwargs)\n  File \"c:\\Users\\USER\\anaconda3\\envs\\vfootball\\lib\\site-packages\\tensorflow_core\\python\\keras\\engine\\base_layer.py\", line 529, in add_weight\n    aggregation=aggregation)\n  File \"c:\\Users\\USER\\anaconda3\\envs\\vfootball\\lib\\site-packages\\tensorflow_core\\python\\training\\tracking\\base.py\", line 712, in _add_variable_with_custom_getter\n    **kwargs_for_getter)\n  File \"c:\\Users\\USER\\anaconda3\\envs\\vfootball\\lib\\site-packages\\tensorflow_core\\python\\ops\\variable_scope.py\", line 1500, in get_variable\n    aggregation=aggregation)\n  File \"c:\\Users\\USER\\anaconda3\\envs\\vfootball\\lib\\site-packages\\tensorflow_core\\python\\ops\\variable_scope.py\", line 1243, in get_variable\n    aggregation=aggregation)\n  File \"c:\\Users\\USER\\anaconda3\\envs\\vfootball\\lib\\site-packages\\tensorflow_core\\python\\ops\\variable_scope.py\", line 550, in get_variable\n    return custom_getter(**custom_getter_kwargs)\n  File \"c:\\Users\\USER\\anaconda3\\envs\\vfootball\\lib\\site-packages\\tf_slim\\layers\\layers.py\", line 1793, in layer_variable_getter\n    return _model_variable_getter(getter, *args, **kwargs)\n  File \"c:\\Users\\USER\\anaconda3\\envs\\vfootball\\lib\\site-packages\\tf_slim\\layers\\layers.py\", line 1784, in _model_variable_getter\n    aggregation=aggregation)\n  File \"c:\\Users\\USER\\anaconda3\\envs\\vfootball\\lib\\site-packages\\tf_slim\\ops\\arg_scope.py\", line 184, in func_with_args\n    return func(*args, **current_args)\n  File \"c:\\Users\\USER\\anaconda3\\envs\\vfootball\\lib\\site-packages\\tf_slim\\ops\\variables.py\", line 328, in model_variable\n    aggregation=aggregation)\n  File \"c:\\Users\\USER\\anaconda3\\envs\\vfootball\\lib\\site-packages\\tf_slim\\ops\\arg_scope.py\", line 184, in func_with_args\n    return func(*args, **current_args)\n  File \"c:\\Users\\USER\\anaconda3\\envs\\vfootball\\lib\\site-packages\\tf_slim\\ops\\variables.py\", line 256, in variable\n    aggregation=aggregation)\n  File \"c:\\Users\\USER\\anaconda3\\envs\\vfootball\\lib\\site-packages\\tensorflow_core\\python\\ops\\variable_scope.py\", line 519, in _true_getter\n    aggregation=aggregation)\n  File \"c:\\Users\\USER\\anaconda3\\envs\\vfootball\\lib\\site-packages\\tensorflow_core\\python\\ops\\variable_scope.py\", line 933, in _get_single_variable\n    aggregation=aggregation)\n  File \"c:\\Users\\USER\\anaconda3\\envs\\vfootball\\lib\\site-packages\\tensorflow_core\\python\\ops\\variables.py\", line 258, in __call__\n    return cls._variable_v1_call(*args, **kwargs)\n  File \"c:\\Users\\USER\\anaconda3\\envs\\vfootball\\lib\\site-packages\\tensorflow_core\\python\\ops\\variables.py\", line 219, in _variable_v1_call\n    shape=shape)\n  File \"c:\\Users\\USER\\anaconda3\\envs\\vfootball\\lib\\site-packages\\tensorflow_core\\python\\ops\\variables.py\", line 197, in <lambda>\n    previous_getter = lambda **kwargs: default_variable_creator(None, **kwargs)\n  File \"c:\\Users\\USER\\anaconda3\\envs\\vfootball\\lib\\site-packages\\tensorflow_core\\python\\ops\\variable_scope.py\", line 2519, in default_variable_creator\n    shape=shape)\n  File \"c:\\Users\\USER\\anaconda3\\envs\\vfootball\\lib\\site-packages\\tensorflow_core\\python\\ops\\variables.py\", line 262, in __call__\n    return super(VariableMetaclass, cls).__call__(*args, **kwargs)\n  File \"c:\\Users\\USER\\anaconda3\\envs\\vfootball\\lib\\site-packages\\tensorflow_core\\python\\ops\\variables.py\", line 1688, in __init__\n    shape=shape)\n  File \"c:\\Users\\USER\\anaconda3\\envs\\vfootball\\lib\\site-packages\\tensorflow_core\\python\\ops\\variables.py\", line 1872, in _init_from_args\n    self._snapshot = array_ops.identity(self._variable, name=\"read\")\n  File \"c:\\Users\\USER\\anaconda3\\envs\\vfootball\\lib\\site-packages\\tensorflow_core\\python\\util\\dispatch.py\", line 180, in wrapper\n    return target(*args, **kwargs)\n  File \"c:\\Users\\USER\\anaconda3\\envs\\vfootball\\lib\\site-packages\\tensorflow_core\\python\\ops\\array_ops.py\", line 203, in identity\n    ret = gen_array_ops.identity(input, name=name)\n  File \"c:\\Users\\USER\\anaconda3\\envs\\vfootball\\lib\\site-packages\\tensorflow_core\\python\\ops\\gen_array_ops.py\", line 4238, in identity\n    \"Identity\", input=input, name=name)\n  File \"c:\\Users\\USER\\anaconda3\\envs\\vfootball\\lib\\site-packages\\tensorflow_core\\python\\framework\\op_def_library.py\", line 794, in _apply_op_helper\n    op_def=op_def)\n  File \"c:\\Users\\USER\\anaconda3\\envs\\vfootball\\lib\\site-packages\\tensorflow_core\\python\\util\\deprecation.py\", line 507, in new_func\n    return func(*args, **kwargs)\n  File \"c:\\Users\\USER\\anaconda3\\envs\\vfootball\\lib\\site-packages\\tensorflow_core\\python\\framework\\ops.py\", line 3357, in create_op\n    attrs, op_def, compute_device)\n  File \"c:\\Users\\USER\\anaconda3\\envs\\vfootball\\lib\\site-packages\\tensorflow_core\\python\\framework\\ops.py\", line 3426, in _create_op_internal\n    op_def=op_def)\n  File \"c:\\Users\\USER\\anaconda3\\envs\\vfootball\\lib\\site-packages\\tensorflow_core\\python\\framework\\ops.py\", line 1748, in __init__\n    self._traceback = tf_stack.extract_stack()\n",
     "output_type": "error",
     "traceback": [
      "\u001b[1;31m---------------------------------------------------------------------------\u001b[0m",
      "\u001b[1;31mFailedPreconditionError\u001b[0m                   Traceback (most recent call last)",
      "\u001b[1;32mc:\\Users\\USER\\anaconda3\\envs\\vfootball\\lib\\site-packages\\tensorflow_core\\python\\client\\session.py\u001b[0m in \u001b[0;36m_do_call\u001b[1;34m(self, fn, *args)\u001b[0m\n\u001b[0;32m   1364\u001b[0m     \u001b[1;32mtry\u001b[0m\u001b[1;33m:\u001b[0m\u001b[1;33m\u001b[0m\u001b[1;33m\u001b[0m\u001b[0m\n\u001b[1;32m-> 1365\u001b[1;33m       \u001b[1;32mreturn\u001b[0m \u001b[0mfn\u001b[0m\u001b[1;33m(\u001b[0m\u001b[1;33m*\u001b[0m\u001b[0margs\u001b[0m\u001b[1;33m)\u001b[0m\u001b[1;33m\u001b[0m\u001b[1;33m\u001b[0m\u001b[0m\n\u001b[0m\u001b[0;32m   1366\u001b[0m     \u001b[1;32mexcept\u001b[0m \u001b[0merrors\u001b[0m\u001b[1;33m.\u001b[0m\u001b[0mOpError\u001b[0m \u001b[1;32mas\u001b[0m \u001b[0me\u001b[0m\u001b[1;33m:\u001b[0m\u001b[1;33m\u001b[0m\u001b[1;33m\u001b[0m\u001b[0m\n",
      "\u001b[1;32mc:\\Users\\USER\\anaconda3\\envs\\vfootball\\lib\\site-packages\\tensorflow_core\\python\\client\\session.py\u001b[0m in \u001b[0;36m_run_fn\u001b[1;34m(feed_dict, fetch_list, target_list, options, run_metadata)\u001b[0m\n\u001b[0;32m   1349\u001b[0m       return self._call_tf_sessionrun(options, feed_dict, fetch_list,\n\u001b[1;32m-> 1350\u001b[1;33m                                       target_list, run_metadata)\n\u001b[0m\u001b[0;32m   1351\u001b[0m \u001b[1;33m\u001b[0m\u001b[0m\n",
      "\u001b[1;32mc:\\Users\\USER\\anaconda3\\envs\\vfootball\\lib\\site-packages\\tensorflow_core\\python\\client\\session.py\u001b[0m in \u001b[0;36m_call_tf_sessionrun\u001b[1;34m(self, options, feed_dict, fetch_list, target_list, run_metadata)\u001b[0m\n\u001b[0;32m   1442\u001b[0m                                             \u001b[0mfetch_list\u001b[0m\u001b[1;33m,\u001b[0m \u001b[0mtarget_list\u001b[0m\u001b[1;33m,\u001b[0m\u001b[1;33m\u001b[0m\u001b[1;33m\u001b[0m\u001b[0m\n\u001b[1;32m-> 1443\u001b[1;33m                                             run_metadata)\n\u001b[0m\u001b[0;32m   1444\u001b[0m \u001b[1;33m\u001b[0m\u001b[0m\n",
      "\u001b[1;31mFailedPreconditionError\u001b[0m: Attempting to use uninitialized value Conv_2/biases\n\t [[{{node Conv_2/biases/read}}]]",
      "\nDuring handling of the above exception, another exception occurred:\n",
      "\u001b[1;31mFailedPreconditionError\u001b[0m                   Traceback (most recent call last)",
      "\u001b[1;32m~\\AppData\\Local\\Temp\\ipykernel_18044\\1632055436.py\u001b[0m in \u001b[0;36m<module>\u001b[1;34m\u001b[0m\n\u001b[0;32m     15\u001b[0m         \u001b[0mprint\u001b[0m\u001b[1;33m(\u001b[0m\u001b[1;34m\"action\"\u001b[0m\u001b[1;33m,\u001b[0m\u001b[0maction\u001b[0m\u001b[1;33m)\u001b[0m\u001b[1;33m\u001b[0m\u001b[1;33m\u001b[0m\u001b[0m\n\u001b[0;32m     16\u001b[0m         \u001b[0mnext_net\u001b[0m \u001b[1;33m=\u001b[0m \u001b[0mcreate_network\u001b[0m\u001b[1;33m(\u001b[0m\u001b[0mnext_frame\u001b[0m\u001b[1;33m,\u001b[0m\u001b[1;32mTrue\u001b[0m\u001b[1;33m)\u001b[0m\u001b[1;33m\u001b[0m\u001b[1;33m\u001b[0m\u001b[0m\n\u001b[1;32m---> 17\u001b[1;33m         \u001b[0mprint\u001b[0m\u001b[1;33m(\u001b[0m\u001b[1;34m\"next_net\"\u001b[0m\u001b[1;33m,\u001b[0m\u001b[0mnext_net\u001b[0m\u001b[1;33m.\u001b[0m\u001b[0meval\u001b[0m\u001b[1;33m(\u001b[0m\u001b[0msession\u001b[0m \u001b[1;33m=\u001b[0m \u001b[0msess\u001b[0m\u001b[1;33m)\u001b[0m\u001b[1;33m)\u001b[0m\u001b[1;33m\u001b[0m\u001b[1;33m\u001b[0m\u001b[0m\n\u001b[0m\u001b[0;32m     18\u001b[0m \u001b[1;33m\u001b[0m\u001b[0m\n",
      "\u001b[1;32mc:\\Users\\USER\\anaconda3\\envs\\vfootball\\lib\\site-packages\\tensorflow_core\\python\\framework\\ops.py\u001b[0m in \u001b[0;36meval\u001b[1;34m(self, feed_dict, session)\u001b[0m\n\u001b[0;32m    796\u001b[0m \u001b[1;33m\u001b[0m\u001b[0m\n\u001b[0;32m    797\u001b[0m     \"\"\"\n\u001b[1;32m--> 798\u001b[1;33m     \u001b[1;32mreturn\u001b[0m \u001b[0m_eval_using_default_session\u001b[0m\u001b[1;33m(\u001b[0m\u001b[0mself\u001b[0m\u001b[1;33m,\u001b[0m \u001b[0mfeed_dict\u001b[0m\u001b[1;33m,\u001b[0m \u001b[0mself\u001b[0m\u001b[1;33m.\u001b[0m\u001b[0mgraph\u001b[0m\u001b[1;33m,\u001b[0m \u001b[0msession\u001b[0m\u001b[1;33m)\u001b[0m\u001b[1;33m\u001b[0m\u001b[1;33m\u001b[0m\u001b[0m\n\u001b[0m\u001b[0;32m    799\u001b[0m \u001b[1;33m\u001b[0m\u001b[0m\n\u001b[0;32m    800\u001b[0m   \u001b[1;32mdef\u001b[0m \u001b[0mexperimental_ref\u001b[0m\u001b[1;33m(\u001b[0m\u001b[0mself\u001b[0m\u001b[1;33m)\u001b[0m\u001b[1;33m:\u001b[0m\u001b[1;33m\u001b[0m\u001b[1;33m\u001b[0m\u001b[0m\n",
      "\u001b[1;32mc:\\Users\\USER\\anaconda3\\envs\\vfootball\\lib\\site-packages\\tensorflow_core\\python\\framework\\ops.py\u001b[0m in \u001b[0;36m_eval_using_default_session\u001b[1;34m(tensors, feed_dict, graph, session)\u001b[0m\n\u001b[0;32m   5405\u001b[0m                        \u001b[1;34m\"the tensor's graph is different from the session's \"\u001b[0m\u001b[1;33m\u001b[0m\u001b[1;33m\u001b[0m\u001b[0m\n\u001b[0;32m   5406\u001b[0m                        \"graph.\")\n\u001b[1;32m-> 5407\u001b[1;33m   \u001b[1;32mreturn\u001b[0m \u001b[0msession\u001b[0m\u001b[1;33m.\u001b[0m\u001b[0mrun\u001b[0m\u001b[1;33m(\u001b[0m\u001b[0mtensors\u001b[0m\u001b[1;33m,\u001b[0m \u001b[0mfeed_dict\u001b[0m\u001b[1;33m)\u001b[0m\u001b[1;33m\u001b[0m\u001b[1;33m\u001b[0m\u001b[0m\n\u001b[0m\u001b[0;32m   5408\u001b[0m \u001b[1;33m\u001b[0m\u001b[0m\n\u001b[0;32m   5409\u001b[0m \u001b[1;33m\u001b[0m\u001b[0m\n",
      "\u001b[1;32mc:\\Users\\USER\\anaconda3\\envs\\vfootball\\lib\\site-packages\\tensorflow_core\\python\\client\\session.py\u001b[0m in \u001b[0;36mrun\u001b[1;34m(self, fetches, feed_dict, options, run_metadata)\u001b[0m\n\u001b[0;32m    954\u001b[0m     \u001b[1;32mtry\u001b[0m\u001b[1;33m:\u001b[0m\u001b[1;33m\u001b[0m\u001b[1;33m\u001b[0m\u001b[0m\n\u001b[0;32m    955\u001b[0m       result = self._run(None, fetches, feed_dict, options_ptr,\n\u001b[1;32m--> 956\u001b[1;33m                          run_metadata_ptr)\n\u001b[0m\u001b[0;32m    957\u001b[0m       \u001b[1;32mif\u001b[0m \u001b[0mrun_metadata\u001b[0m\u001b[1;33m:\u001b[0m\u001b[1;33m\u001b[0m\u001b[1;33m\u001b[0m\u001b[0m\n\u001b[0;32m    958\u001b[0m         \u001b[0mproto_data\u001b[0m \u001b[1;33m=\u001b[0m \u001b[0mtf_session\u001b[0m\u001b[1;33m.\u001b[0m\u001b[0mTF_GetBuffer\u001b[0m\u001b[1;33m(\u001b[0m\u001b[0mrun_metadata_ptr\u001b[0m\u001b[1;33m)\u001b[0m\u001b[1;33m\u001b[0m\u001b[1;33m\u001b[0m\u001b[0m\n",
      "\u001b[1;32mc:\\Users\\USER\\anaconda3\\envs\\vfootball\\lib\\site-packages\\tensorflow_core\\python\\client\\session.py\u001b[0m in \u001b[0;36m_run\u001b[1;34m(self, handle, fetches, feed_dict, options, run_metadata)\u001b[0m\n\u001b[0;32m   1178\u001b[0m     \u001b[1;32mif\u001b[0m \u001b[0mfinal_fetches\u001b[0m \u001b[1;32mor\u001b[0m \u001b[0mfinal_targets\u001b[0m \u001b[1;32mor\u001b[0m \u001b[1;33m(\u001b[0m\u001b[0mhandle\u001b[0m \u001b[1;32mand\u001b[0m \u001b[0mfeed_dict_tensor\u001b[0m\u001b[1;33m)\u001b[0m\u001b[1;33m:\u001b[0m\u001b[1;33m\u001b[0m\u001b[1;33m\u001b[0m\u001b[0m\n\u001b[0;32m   1179\u001b[0m       results = self._do_run(handle, final_targets, final_fetches,\n\u001b[1;32m-> 1180\u001b[1;33m                              feed_dict_tensor, options, run_metadata)\n\u001b[0m\u001b[0;32m   1181\u001b[0m     \u001b[1;32melse\u001b[0m\u001b[1;33m:\u001b[0m\u001b[1;33m\u001b[0m\u001b[1;33m\u001b[0m\u001b[0m\n\u001b[0;32m   1182\u001b[0m       \u001b[0mresults\u001b[0m \u001b[1;33m=\u001b[0m \u001b[1;33m[\u001b[0m\u001b[1;33m]\u001b[0m\u001b[1;33m\u001b[0m\u001b[1;33m\u001b[0m\u001b[0m\n",
      "\u001b[1;32mc:\\Users\\USER\\anaconda3\\envs\\vfootball\\lib\\site-packages\\tensorflow_core\\python\\client\\session.py\u001b[0m in \u001b[0;36m_do_run\u001b[1;34m(self, handle, target_list, fetch_list, feed_dict, options, run_metadata)\u001b[0m\n\u001b[0;32m   1357\u001b[0m     \u001b[1;32mif\u001b[0m \u001b[0mhandle\u001b[0m \u001b[1;32mis\u001b[0m \u001b[1;32mNone\u001b[0m\u001b[1;33m:\u001b[0m\u001b[1;33m\u001b[0m\u001b[1;33m\u001b[0m\u001b[0m\n\u001b[0;32m   1358\u001b[0m       return self._do_call(_run_fn, feeds, fetches, targets, options,\n\u001b[1;32m-> 1359\u001b[1;33m                            run_metadata)\n\u001b[0m\u001b[0;32m   1360\u001b[0m     \u001b[1;32melse\u001b[0m\u001b[1;33m:\u001b[0m\u001b[1;33m\u001b[0m\u001b[1;33m\u001b[0m\u001b[0m\n\u001b[0;32m   1361\u001b[0m       \u001b[1;32mreturn\u001b[0m \u001b[0mself\u001b[0m\u001b[1;33m.\u001b[0m\u001b[0m_do_call\u001b[0m\u001b[1;33m(\u001b[0m\u001b[0m_prun_fn\u001b[0m\u001b[1;33m,\u001b[0m \u001b[0mhandle\u001b[0m\u001b[1;33m,\u001b[0m \u001b[0mfeeds\u001b[0m\u001b[1;33m,\u001b[0m \u001b[0mfetches\u001b[0m\u001b[1;33m)\u001b[0m\u001b[1;33m\u001b[0m\u001b[1;33m\u001b[0m\u001b[0m\n",
      "\u001b[1;32mc:\\Users\\USER\\anaconda3\\envs\\vfootball\\lib\\site-packages\\tensorflow_core\\python\\client\\session.py\u001b[0m in \u001b[0;36m_do_call\u001b[1;34m(self, fn, *args)\u001b[0m\n\u001b[0;32m   1382\u001b[0m                     \u001b[1;34m'\\nsession_config.graph_options.rewrite_options.'\u001b[0m\u001b[1;33m\u001b[0m\u001b[1;33m\u001b[0m\u001b[0m\n\u001b[0;32m   1383\u001b[0m                     'disable_meta_optimizer = True')\n\u001b[1;32m-> 1384\u001b[1;33m       \u001b[1;32mraise\u001b[0m \u001b[0mtype\u001b[0m\u001b[1;33m(\u001b[0m\u001b[0me\u001b[0m\u001b[1;33m)\u001b[0m\u001b[1;33m(\u001b[0m\u001b[0mnode_def\u001b[0m\u001b[1;33m,\u001b[0m \u001b[0mop\u001b[0m\u001b[1;33m,\u001b[0m \u001b[0mmessage\u001b[0m\u001b[1;33m)\u001b[0m\u001b[1;33m\u001b[0m\u001b[1;33m\u001b[0m\u001b[0m\n\u001b[0m\u001b[0;32m   1385\u001b[0m \u001b[1;33m\u001b[0m\u001b[0m\n\u001b[0;32m   1386\u001b[0m   \u001b[1;32mdef\u001b[0m \u001b[0m_extend_graph\u001b[0m\u001b[1;33m(\u001b[0m\u001b[0mself\u001b[0m\u001b[1;33m)\u001b[0m\u001b[1;33m:\u001b[0m\u001b[1;33m\u001b[0m\u001b[1;33m\u001b[0m\u001b[0m\n",
      "\u001b[1;31mFailedPreconditionError\u001b[0m: Attempting to use uninitialized value Conv_2/biases\n\t [[node Conv_2/biases/read (defined at c:\\Users\\USER\\anaconda3\\envs\\vfootball\\lib\\site-packages\\tensorflow_core\\python\\framework\\ops.py:1748) ]]\n\nOriginal stack trace for 'Conv_2/biases/read':\n  File \"c:\\Users\\USER\\anaconda3\\envs\\vfootball\\lib\\runpy.py\", line 193, in _run_module_as_main\n    \"__main__\", mod_spec)\n  File \"c:\\Users\\USER\\anaconda3\\envs\\vfootball\\lib\\runpy.py\", line 85, in _run_code\n    exec(code, run_globals)\n  File \"c:\\Users\\USER\\anaconda3\\envs\\vfootball\\lib\\site-packages\\ipykernel_launcher.py\", line 17, in <module>\n    app.launch_new_instance()\n  File \"c:\\Users\\USER\\anaconda3\\envs\\vfootball\\lib\\site-packages\\traitlets\\config\\application.py\", line 846, in launch_instance\n    app.start()\n  File \"c:\\Users\\USER\\anaconda3\\envs\\vfootball\\lib\\site-packages\\ipykernel\\kernelapp.py\", line 712, in start\n    self.io_loop.start()\n  File \"c:\\Users\\USER\\anaconda3\\envs\\vfootball\\lib\\site-packages\\tornado\\platform\\asyncio.py\", line 215, in start\n    self.asyncio_loop.run_forever()\n  File \"c:\\Users\\USER\\anaconda3\\envs\\vfootball\\lib\\asyncio\\base_events.py\", line 541, in run_forever\n    self._run_once()\n  File \"c:\\Users\\USER\\anaconda3\\envs\\vfootball\\lib\\asyncio\\base_events.py\", line 1786, in _run_once\n    handle._run()\n  File \"c:\\Users\\USER\\anaconda3\\envs\\vfootball\\lib\\asyncio\\events.py\", line 88, in _run\n    self._context.run(self._callback, *self._args)\n  File \"c:\\Users\\USER\\anaconda3\\envs\\vfootball\\lib\\site-packages\\ipykernel\\kernelbase.py\", line 510, in dispatch_queue\n    await self.process_one()\n  File \"c:\\Users\\USER\\anaconda3\\envs\\vfootball\\lib\\site-packages\\ipykernel\\kernelbase.py\", line 499, in process_one\n    await dispatch(*args)\n  File \"c:\\Users\\USER\\anaconda3\\envs\\vfootball\\lib\\site-packages\\ipykernel\\kernelbase.py\", line 406, in dispatch_shell\n    await result\n  File \"c:\\Users\\USER\\anaconda3\\envs\\vfootball\\lib\\site-packages\\ipykernel\\kernelbase.py\", line 730, in execute_request\n    reply_content = await reply_content\n  File \"c:\\Users\\USER\\anaconda3\\envs\\vfootball\\lib\\site-packages\\ipykernel\\ipkernel.py\", line 390, in do_execute\n    res = shell.run_cell(code, store_history=store_history, silent=silent)\n  File \"c:\\Users\\USER\\anaconda3\\envs\\vfootball\\lib\\site-packages\\ipykernel\\zmqshell.py\", line 528, in run_cell\n    return super().run_cell(*args, **kwargs)\n  File \"c:\\Users\\USER\\anaconda3\\envs\\vfootball\\lib\\site-packages\\IPython\\core\\interactiveshell.py\", line 2915, in run_cell\n    raw_cell, store_history, silent, shell_futures)\n  File \"c:\\Users\\USER\\anaconda3\\envs\\vfootball\\lib\\site-packages\\IPython\\core\\interactiveshell.py\", line 2960, in _run_cell\n    return runner(coro)\n  File \"c:\\Users\\USER\\anaconda3\\envs\\vfootball\\lib\\site-packages\\IPython\\core\\async_helpers.py\", line 78, in _pseudo_sync_runner\n    coro.send(None)\n  File \"c:\\Users\\USER\\anaconda3\\envs\\vfootball\\lib\\site-packages\\IPython\\core\\interactiveshell.py\", line 3186, in run_cell_async\n    interactivity=interactivity, compiler=compiler, result=result)\n  File \"c:\\Users\\USER\\anaconda3\\envs\\vfootball\\lib\\site-packages\\IPython\\core\\interactiveshell.py\", line 3377, in run_ast_nodes\n    if (await self.run_code(code, result,  async_=asy)):\n  File \"c:\\Users\\USER\\anaconda3\\envs\\vfootball\\lib\\site-packages\\IPython\\core\\interactiveshell.py\", line 3457, in run_code\n    exec(code_obj, self.user_global_ns, self.user_ns)\n  File \"C:\\Users\\USER\\AppData\\Local\\Temp\\ipykernel_18044\\1632055436.py\", line 16, in <module>\n    next_net = create_network(next_frame,True)\n  File \"C:\\Users\\USER\\AppData\\Local\\Temp\\ipykernel_18044\\3314556274.py\", line 16, in create_network\n    activation_fn=tf.nn.relu, stride=3, weights_regularizer=wr, trainable=trainable)\n  File \"c:\\Users\\USER\\anaconda3\\envs\\vfootball\\lib\\site-packages\\tf_slim\\ops\\arg_scope.py\", line 184, in func_with_args\n    return func(*args, **current_args)\n  File \"c:\\Users\\USER\\anaconda3\\envs\\vfootball\\lib\\site-packages\\tf_slim\\layers\\layers.py\", line 1191, in convolution2d\n    conv_dims=2)\n  File \"c:\\Users\\USER\\anaconda3\\envs\\vfootball\\lib\\site-packages\\tf_slim\\ops\\arg_scope.py\", line 184, in func_with_args\n    return func(*args, **current_args)\n  File \"c:\\Users\\USER\\anaconda3\\envs\\vfootball\\lib\\site-packages\\tf_slim\\layers\\layers.py\", line 1089, in convolution\n    outputs = layer.apply(inputs)\n  File \"c:\\Users\\USER\\anaconda3\\envs\\vfootball\\lib\\site-packages\\tensorflow_core\\python\\util\\deprecation.py\", line 324, in new_func\n    return func(*args, **kwargs)\n  File \"c:\\Users\\USER\\anaconda3\\envs\\vfootball\\lib\\site-packages\\tensorflow_core\\python\\keras\\engine\\base_layer.py\", line 1700, in apply\n    return self.__call__(inputs, *args, **kwargs)\n  File \"c:\\Users\\USER\\anaconda3\\envs\\vfootball\\lib\\site-packages\\tensorflow_core\\python\\layers\\base.py\", line 548, in __call__\n    outputs = super(Layer, self).__call__(inputs, *args, **kwargs)\n  File \"c:\\Users\\USER\\anaconda3\\envs\\vfootball\\lib\\site-packages\\tensorflow_core\\python\\keras\\engine\\base_layer.py\", line 824, in __call__\n    self._maybe_build(inputs)\n  File \"c:\\Users\\USER\\anaconda3\\envs\\vfootball\\lib\\site-packages\\tensorflow_core\\python\\keras\\engine\\base_layer.py\", line 2146, in _maybe_build\n    self.build(input_shapes)\n  File \"c:\\Users\\USER\\anaconda3\\envs\\vfootball\\lib\\site-packages\\tensorflow_core\\python\\keras\\layers\\convolutional.py\", line 174, in build\n    dtype=self.dtype)\n  File \"c:\\Users\\USER\\anaconda3\\envs\\vfootball\\lib\\site-packages\\tensorflow_core\\python\\layers\\base.py\", line 461, in add_weight\n    **kwargs)\n  File \"c:\\Users\\USER\\anaconda3\\envs\\vfootball\\lib\\site-packages\\tensorflow_core\\python\\keras\\engine\\base_layer.py\", line 529, in add_weight\n    aggregation=aggregation)\n  File \"c:\\Users\\USER\\anaconda3\\envs\\vfootball\\lib\\site-packages\\tensorflow_core\\python\\training\\tracking\\base.py\", line 712, in _add_variable_with_custom_getter\n    **kwargs_for_getter)\n  File \"c:\\Users\\USER\\anaconda3\\envs\\vfootball\\lib\\site-packages\\tensorflow_core\\python\\ops\\variable_scope.py\", line 1500, in get_variable\n    aggregation=aggregation)\n  File \"c:\\Users\\USER\\anaconda3\\envs\\vfootball\\lib\\site-packages\\tensorflow_core\\python\\ops\\variable_scope.py\", line 1243, in get_variable\n    aggregation=aggregation)\n  File \"c:\\Users\\USER\\anaconda3\\envs\\vfootball\\lib\\site-packages\\tensorflow_core\\python\\ops\\variable_scope.py\", line 550, in get_variable\n    return custom_getter(**custom_getter_kwargs)\n  File \"c:\\Users\\USER\\anaconda3\\envs\\vfootball\\lib\\site-packages\\tf_slim\\layers\\layers.py\", line 1793, in layer_variable_getter\n    return _model_variable_getter(getter, *args, **kwargs)\n  File \"c:\\Users\\USER\\anaconda3\\envs\\vfootball\\lib\\site-packages\\tf_slim\\layers\\layers.py\", line 1784, in _model_variable_getter\n    aggregation=aggregation)\n  File \"c:\\Users\\USER\\anaconda3\\envs\\vfootball\\lib\\site-packages\\tf_slim\\ops\\arg_scope.py\", line 184, in func_with_args\n    return func(*args, **current_args)\n  File \"c:\\Users\\USER\\anaconda3\\envs\\vfootball\\lib\\site-packages\\tf_slim\\ops\\variables.py\", line 328, in model_variable\n    aggregation=aggregation)\n  File \"c:\\Users\\USER\\anaconda3\\envs\\vfootball\\lib\\site-packages\\tf_slim\\ops\\arg_scope.py\", line 184, in func_with_args\n    return func(*args, **current_args)\n  File \"c:\\Users\\USER\\anaconda3\\envs\\vfootball\\lib\\site-packages\\tf_slim\\ops\\variables.py\", line 256, in variable\n    aggregation=aggregation)\n  File \"c:\\Users\\USER\\anaconda3\\envs\\vfootball\\lib\\site-packages\\tensorflow_core\\python\\ops\\variable_scope.py\", line 519, in _true_getter\n    aggregation=aggregation)\n  File \"c:\\Users\\USER\\anaconda3\\envs\\vfootball\\lib\\site-packages\\tensorflow_core\\python\\ops\\variable_scope.py\", line 933, in _get_single_variable\n    aggregation=aggregation)\n  File \"c:\\Users\\USER\\anaconda3\\envs\\vfootball\\lib\\site-packages\\tensorflow_core\\python\\ops\\variables.py\", line 258, in __call__\n    return cls._variable_v1_call(*args, **kwargs)\n  File \"c:\\Users\\USER\\anaconda3\\envs\\vfootball\\lib\\site-packages\\tensorflow_core\\python\\ops\\variables.py\", line 219, in _variable_v1_call\n    shape=shape)\n  File \"c:\\Users\\USER\\anaconda3\\envs\\vfootball\\lib\\site-packages\\tensorflow_core\\python\\ops\\variables.py\", line 197, in <lambda>\n    previous_getter = lambda **kwargs: default_variable_creator(None, **kwargs)\n  File \"c:\\Users\\USER\\anaconda3\\envs\\vfootball\\lib\\site-packages\\tensorflow_core\\python\\ops\\variable_scope.py\", line 2519, in default_variable_creator\n    shape=shape)\n  File \"c:\\Users\\USER\\anaconda3\\envs\\vfootball\\lib\\site-packages\\tensorflow_core\\python\\ops\\variables.py\", line 262, in __call__\n    return super(VariableMetaclass, cls).__call__(*args, **kwargs)\n  File \"c:\\Users\\USER\\anaconda3\\envs\\vfootball\\lib\\site-packages\\tensorflow_core\\python\\ops\\variables.py\", line 1688, in __init__\n    shape=shape)\n  File \"c:\\Users\\USER\\anaconda3\\envs\\vfootball\\lib\\site-packages\\tensorflow_core\\python\\ops\\variables.py\", line 1872, in _init_from_args\n    self._snapshot = array_ops.identity(self._variable, name=\"read\")\n  File \"c:\\Users\\USER\\anaconda3\\envs\\vfootball\\lib\\site-packages\\tensorflow_core\\python\\util\\dispatch.py\", line 180, in wrapper\n    return target(*args, **kwargs)\n  File \"c:\\Users\\USER\\anaconda3\\envs\\vfootball\\lib\\site-packages\\tensorflow_core\\python\\ops\\array_ops.py\", line 203, in identity\n    ret = gen_array_ops.identity(input, name=name)\n  File \"c:\\Users\\USER\\anaconda3\\envs\\vfootball\\lib\\site-packages\\tensorflow_core\\python\\ops\\gen_array_ops.py\", line 4238, in identity\n    \"Identity\", input=input, name=name)\n  File \"c:\\Users\\USER\\anaconda3\\envs\\vfootball\\lib\\site-packages\\tensorflow_core\\python\\framework\\op_def_library.py\", line 794, in _apply_op_helper\n    op_def=op_def)\n  File \"c:\\Users\\USER\\anaconda3\\envs\\vfootball\\lib\\site-packages\\tensorflow_core\\python\\util\\deprecation.py\", line 507, in new_func\n    return func(*args, **kwargs)\n  File \"c:\\Users\\USER\\anaconda3\\envs\\vfootball\\lib\\site-packages\\tensorflow_core\\python\\framework\\ops.py\", line 3357, in create_op\n    attrs, op_def, compute_device)\n  File \"c:\\Users\\USER\\anaconda3\\envs\\vfootball\\lib\\site-packages\\tensorflow_core\\python\\framework\\ops.py\", line 3426, in _create_op_internal\n    op_def=op_def)\n  File \"c:\\Users\\USER\\anaconda3\\envs\\vfootball\\lib\\site-packages\\tensorflow_core\\python\\framework\\ops.py\", line 1748, in __init__\n    self._traceback = tf_stack.extract_stack()\n"
     ]
    },
    {
     "ename": "",
     "evalue": "",
     "output_type": "error",
     "traceback": [
      "\u001b[1;31m在目前儲存格或上一個儲存格中執行程式碼時，Kernel 已損毀。請檢閱儲存格中的程式碼，找出失敗的可能原因。如需詳細資訊，請按一下<a href='https://aka.ms/vscodeJupyterKernelCrash'>這裡</a>。檢視 Jupyter <a href='command:jupyter.viewOutput'>記錄</a>，以取得進一步的詳細資料。"
     ]
    }
   ],
   "source": [
    "env = football_env.create_environment(env_name=\"5_vs_5\", representation='pixels', render = True, \n",
    "        rewards=\"checkpoints,scoring\"\n",
    "    )\n",
    "frame = env.reset()\n",
    "net = create_network(frame, True)\n",
    "with tf.Session() as sess:\n",
    "    sess.run(tf.global_variables_initializer())\n",
    "    print(net.eval(session = sess))\n",
    "    sess.close()\n",
    "    while True:\n",
    "        with tf.Session() as sess:\n",
    "            action_set = football_action_set.get_action_set({'action_set': 'default'})\n",
    "            n_actions = len(action_set)\n",
    "            action = random.randint(0, n_actions - 1)\n",
    "            next_frame, reward, done, info = env.step(action)\n",
    "\n",
    "            print(\"action\",action)\n",
    "            next_net = create_network(next_frame,True)\n",
    "            print(\"next_net\",next_net.eval(session = sess))\n",
    "        "
   ]
  }
 ],
 "metadata": {
  "kernelspec": {
   "display_name": "vfootball",
   "language": "python",
   "name": "python3"
  },
  "language_info": {
   "codemirror_mode": {
    "name": "ipython",
    "version": 3
   },
   "file_extension": ".py",
   "mimetype": "text/x-python",
   "name": "python",
   "nbconvert_exporter": "python",
   "pygments_lexer": "ipython3",
   "version": "3.7.15 (default, Nov 24 2022, 18:44:54) [MSC v.1916 64 bit (AMD64)]"
  },
  "vscode": {
   "interpreter": {
    "hash": "3e6fccae01da8af7e5a2fb8de6bc974a6be86bda3f0fa660949ece567e08787d"
   }
  }
 },
 "nbformat": 4,
 "nbformat_minor": 4
}
