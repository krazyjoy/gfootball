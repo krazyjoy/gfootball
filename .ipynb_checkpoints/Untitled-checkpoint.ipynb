{
 "cells": [
  {
   "cell_type": "code",
   "execution_count": 1,
   "metadata": {},
   "outputs": [],
   "source": [
    "import tensorflow as tf"
   ]
  },
  {
   "cell_type": "code",
   "execution_count": 2,
   "metadata": {},
   "outputs": [
    {
     "name": "stdout",
     "output_type": "stream",
     "text": [
      "2.11.0\n"
     ]
    }
   ],
   "source": [
    "print(tf.__version__)"
   ]
  },
  {
   "cell_type": "code",
   "execution_count": null,
   "metadata": {},
   "outputs": [],
   "source": [
    "def create_network(input, trainable):\n",
    "\n",
    "    # input: (batch_size, num_frame_stack, 72, 96)\n",
    "    #input_t = tf.expand_dims(input, axis = -1)\n",
    "    input_t = input\n",
    "    if trainable:\n",
    "        wr = slim.l2_regularizer(self.regularization)\n",
    "    else:\n",
    "        wr = None\n",
    "\n",
    "    # 將channel 放在最後一行\n",
    "    #input_t = tf.transpose(input, [0,2,3,1]) # (batch_size, num_frames, pic_size[0], pic_size[1])\n",
    "\n",
    "\n",
    "    net = slim.conv2d(input_t, 8, (7, 7), data_format=\"NHWC\",\n",
    "        activation_fn=tf.nn.relu, stride=3, weights_regularizer=wr, trainable=trainable)\n",
    "    tf.print(\"tensor: \",net)\n",
    "    net = slim.max_pool2d(net, 2, 2)\n",
    "\n",
    "    net = slim.conv2d(net, 16, (3, 3), data_format=\"NHWC\",\n",
    "        activation_fn=tf.nn.relu, weights_regularizer=wr, trainable=trainable)\n",
    "\n",
    "    net = slim.max_pool2d(net, 2, 2)\n",
    "\n",
    "    net = slim.flatten(net)\n",
    "\n",
    "    net = slim.fully_connected(net, 256, activation_fn=tf.nn.relu,\n",
    "        weights_regularizer=wr, trainable=trainable)\n",
    "    \n",
    "    return net"
   ]
  },
  {
   "cell_type": "code",
   "execution_count": 3,
   "metadata": {},
   "outputs": [
    {
     "ename": "ModuleNotFoundError",
     "evalue": "No module named 'SaveExperience'",
     "output_type": "error",
     "traceback": [
      "\u001b[1;31m---------------------------------------------------------------------------\u001b[0m",
      "\u001b[1;31mModuleNotFoundError\u001b[0m                       Traceback (most recent call last)",
      "\u001b[1;32m<ipython-input-3-fe2dbd0b60c3>\u001b[0m in \u001b[0;36m<module>\u001b[1;34m\u001b[0m\n\u001b[1;32m----> 1\u001b[1;33m \u001b[1;32mfrom\u001b[0m \u001b[0mSaveExperience\u001b[0m \u001b[1;32mimport\u001b[0m \u001b[0mExperienceHistory\u001b[0m\u001b[1;33m\u001b[0m\u001b[1;33m\u001b[0m\u001b[0m\n\u001b[0m\u001b[0;32m      2\u001b[0m \u001b[1;32mimport\u001b[0m \u001b[0mgfootball\u001b[0m\u001b[1;33m.\u001b[0m\u001b[0menv\u001b[0m \u001b[1;32mas\u001b[0m \u001b[0mfootball_env\u001b[0m\u001b[1;33m\u001b[0m\u001b[1;33m\u001b[0m\u001b[0m\n\u001b[0;32m      3\u001b[0m \u001b[1;32mimport\u001b[0m \u001b[0mtensorflow\u001b[0m \u001b[1;32mas\u001b[0m \u001b[0mtf\u001b[0m\u001b[1;33m\u001b[0m\u001b[1;33m\u001b[0m\u001b[0m\n\u001b[0;32m      4\u001b[0m \u001b[1;32mimport\u001b[0m \u001b[0mtf_slim\u001b[0m \u001b[1;32mas\u001b[0m \u001b[0mslim\u001b[0m\u001b[1;33m\u001b[0m\u001b[1;33m\u001b[0m\u001b[0m\n\u001b[0;32m      5\u001b[0m \u001b[1;32mimport\u001b[0m \u001b[0mcv2\u001b[0m\u001b[1;33m\u001b[0m\u001b[1;33m\u001b[0m\u001b[0m\n",
      "\u001b[1;31mModuleNotFoundError\u001b[0m: No module named 'SaveExperience'"
     ]
    }
   ],
   "source": [
    "from env.SaveExperience import ExperienceHistory\n",
    "import gfootball.env as football_env\n",
    "import tensorflow as tf\n",
    "import tf_slim as slim\n",
    "import cv2\n",
    "import numpy as np\n",
    "import re\n",
    "import os"
   ]
  },
  {
   "cell_type": "code",
   "execution_count": null,
   "metadata": {},
   "outputs": [],
   "source": [
    "with tf.Session as sess():\n",
    "    create_network()\n",
    "    print()"
   ]
  }
 ],
 "metadata": {
  "kernelspec": {
   "display_name": "Python 3",
   "language": "python",
   "name": "python3"
  },
  "language_info": {
   "codemirror_mode": {
    "name": "ipython",
    "version": 3
   },
   "file_extension": ".py",
   "mimetype": "text/x-python",
   "name": "python",
   "nbconvert_exporter": "python",
   "pygments_lexer": "ipython3",
   "version": "3.8.5"
  }
 },
 "nbformat": 4,
 "nbformat_minor": 4
}
